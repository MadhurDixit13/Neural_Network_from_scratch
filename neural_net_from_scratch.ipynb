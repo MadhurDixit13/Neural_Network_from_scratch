{
  "nbformat": 4,
  "nbformat_minor": 0,
  "metadata": {
    "colab": {
      "provenance": []
    },
    "kernelspec": {
      "name": "python3",
      "display_name": "Python 3"
    },
    "language_info": {
      "name": "python"
    }
  },
  "cells": [
    {
      "cell_type": "code",
      "execution_count": null,
      "metadata": {
        "colab": {
          "base_uri": "https://localhost:8080/"
        },
        "id": "M7chaybpQo_W",
        "outputId": "24db963e-3437-4389-de40-2417810c7252"
      },
      "outputs": [
        {
          "output_type": "stream",
          "name": "stdout",
          "text": [
            "Requirement already satisfied: numpy in /usr/local/lib/python3.11/dist-packages (2.0.2)\n"
          ]
        }
      ],
      "source": [
        "!pip install numpy"
      ]
    },
    {
      "cell_type": "code",
      "source": [
        "import numpy as np"
      ],
      "metadata": {
        "id": "aYJzy0IjQxMv"
      },
      "execution_count": 1,
      "outputs": []
    },
    {
      "cell_type": "code",
      "source": [
        "# x is the input matrix, w is the weight matrix and b is the bias matrix\n",
        "def neuron(x, w, b):\n",
        "  return np.dot(x, w) + b"
      ],
      "metadata": {
        "id": "UgOBO1kWQ4rR"
      },
      "execution_count": 2,
      "outputs": []
    },
    {
      "cell_type": "code",
      "source": [
        "# batch inputs (original 0th layer inputs which is our actual data)\n",
        "# batches help in generalizing better to the dataset rather than giving a single input each time to fit\n",
        "# Selecting the correct batch size is the key if the batch size if too large and close to the actual size of data it will overfit to the training data as all the data is exposed at once while keeping batch size small will not fit to the entire data correctly as it will each time try to fit to single data points\n",
        "# Recommended batch sizes are 16, 32, 64 but depends on size of the data\n",
        "input = [[1,2,3], [2,3,4], [3,4,5]]\n",
        "weights1 = [[1,2,3],[2,3,4], [3,4,5]]\n",
        "bias1 = [1,2,3]\n",
        "weight2 = [[1,2,3],[2,3,4], [3,4,5]]\n",
        "bias2 = [1,2,3]\n",
        "layer1_output = neuron(input, weights1, bias1)\n",
        "layer2_output = neuron(layer1_output, weight2, bias2)\n",
        "layer2_output"
      ],
      "metadata": {
        "id": "T-fAxS30fXkB",
        "colab": {
          "base_uri": "https://localhost:8080/"
        },
        "outputId": "7199b48b-0e8c-42ca-c1f2-21d83762be24"
      },
      "execution_count": 3,
      "outputs": [
        {
          "output_type": "execute_result",
          "data": {
            "text/plain": [
              "array([[147, 214, 281],\n",
              "       [207, 301, 395],\n",
              "       [267, 388, 509]])"
            ]
          },
          "metadata": {},
          "execution_count": 3
        }
      ]
    },
    {
      "cell_type": "code",
      "source": [
        "\n",
        "for i in layer1_output:\n",
        "  i = 1/(1+np.exp(-i))\n",
        "  print(i)\n",
        "for i in layer2_output:\n",
        "  i = 1/(1+np.exp(-i))\n",
        "  print(i)"
      ],
      "metadata": {
        "id": "8KfV7ikefsry",
        "colab": {
          "base_uri": "https://localhost:8080/"
        },
        "outputId": "c10c4dcd-3461-4deb-f271-bcede6ce2da3"
      },
      "execution_count": 4,
      "outputs": [
        {
          "output_type": "stream",
          "name": "stdout",
          "text": [
            "[0.99999969 1.         1.        ]\n",
            "[1. 1. 1.]\n",
            "[1. 1. 1.]\n",
            "[1. 1. 1.]\n",
            "[1. 1. 1.]\n",
            "[1. 1. 1.]\n"
          ]
        }
      ]
    },
    {
      "cell_type": "code",
      "source": [
        "class Layer:\n",
        "  def __init__(self, x, y):\n",
        "    pass\n",
        "  def forward(self, x):\n",
        "    pass\n",
        "  def backward(self, x):\n",
        "    pass\n",
        "\n",
        ""
      ],
      "metadata": {
        "id": "1x2wnXfIGrQG"
      },
      "execution_count": null,
      "outputs": []
    }
  ]
}